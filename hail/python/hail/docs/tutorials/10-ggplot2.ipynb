{
 "cells": [
  {
   "cell_type": "markdown",
   "id": "2bf2bf75",
   "metadata": {},
   "source": [
    "# Plotting with Hail\n",
    "\n",
    "The [`hail.ggplot2`](https://hail.is/docs/0.2/ggplot2/index.html) module provides a set of functions for aggregating and plotting your data. The module attempts to mimic the API of [R's `ggplot2` library](https://ggplot2.tidyverse.org) as closely as possible. The module displays plots visually using the [Vega-Altair](https://altair-viz.github.io/) library.\n",
    "\n",
    "On this page, you'll find an explanation of the basics of the module, as well as examples of how to create some commonly-used types of plot.\n",
    "\n",
    "## Example Data\n",
    "\n",
    "In order to provide example plots, we'll need example data. The following code uses [`hail.utils.range_table`](https://hail.is/docs/0.2/utils/index.html#hail.utils.range_table) to generate a table with a column containing the index of each row, and a few other columns that each perform a simple calculation on it:"
   ]
  },
  {
   "cell_type": "code",
   "execution_count": 1,
   "id": "ca1ba550",
   "metadata": {},
   "outputs": [
    {
     "name": "stderr",
     "output_type": "stream",
     "text": [
      "Initializing Hail with default parameters...\n",
      "SLF4J: No SLF4J providers were found.\n",
      "SLF4J: Defaulting to no-operation (NOP) logger implementation\n",
      "SLF4J: See https://www.slf4j.org/codes.html#noProviders for further details.\n",
      "SLF4J: Class path contains SLF4J bindings targeting slf4j-api versions 1.7.x or earlier.\n",
      "SLF4J: Ignoring binding found at [jar:file:/Users/irademac/miniconda3/envs/main/lib/python3.9/site-packages/pyspark/jars/log4j-slf4j-impl-2.17.2.jar!/org/slf4j/impl/StaticLoggerBinder.class]\n",
      "SLF4J: See https://www.slf4j.org/codes.html#ignoredBindings for an explanation.\n",
      "Setting default log level to \"WARN\".\n",
      "To adjust logging level use sc.setLogLevel(newLevel). For SparkR, use setLogLevel(newLevel).\n",
      "Running on Apache Spark version 3.3.3\n",
      "SparkUI available at http://192.168.1.14:4040\n",
      "Welcome to\n",
      "     __  __     <>__\n",
      "    / /_/ /__  __/ /\n",
      "   / __  / _ `/ / /\n",
      "  /_/ /_/\\_,_/_/_/   version 0.2.122-2a2fa74f2ad3\n",
      "LOGGING: writing to /Users/irademac/src/hail/hail/python/hail/docs/tutorials/hail-20230915-1422-0.2.122-2a2fa74f2ad3.log\n"
     ]
    },
    {
     "data": {
      "text/html": [
       "<table><thead><tr><td style=\"white-space: nowrap; max-width: 500px; overflow: hidden; text-overflow: ellipsis; \" colspan=\"1\"><div style=\"text-align: left;\"></div></td><td style=\"white-space: nowrap; max-width: 500px; overflow: hidden; text-overflow: ellipsis; \" colspan=\"1\"><div style=\"text-align: left;\"></div></td><td style=\"white-space: nowrap; max-width: 500px; overflow: hidden; text-overflow: ellipsis; \" colspan=\"1\"><div style=\"text-align: left;\"></div></td></tr><tr><td style=\"white-space: nowrap; max-width: 500px; overflow: hidden; text-overflow: ellipsis; \" colspan=\"1\"><div style=\"text-align: left;border-bottom: solid 2px #000; padding-bottom: 5px\">idx</div></td><td style=\"white-space: nowrap; max-width: 500px; overflow: hidden; text-overflow: ellipsis; \" colspan=\"1\"><div style=\"text-align: left;border-bottom: solid 2px #000; padding-bottom: 5px\">idx_2</div></td><td style=\"white-space: nowrap; max-width: 500px; overflow: hidden; text-overflow: ellipsis; \" colspan=\"1\"><div style=\"text-align: left;border-bottom: solid 2px #000; padding-bottom: 5px\">idx_3</div></td></tr><tr><td style=\"white-space: nowrap; max-width: 500px; overflow: hidden; text-overflow: ellipsis; text-align: left;\">int32</td><td style=\"white-space: nowrap; max-width: 500px; overflow: hidden; text-overflow: ellipsis; text-align: left;\">int32</td><td style=\"white-space: nowrap; max-width: 500px; overflow: hidden; text-overflow: ellipsis; text-align: left;\">int32</td></tr>\n",
       "</thead><tbody><tr><td style=\"white-space: nowrap; max-width: 500px; overflow: hidden; text-overflow: ellipsis; \">0</td><td style=\"white-space: nowrap; max-width: 500px; overflow: hidden; text-overflow: ellipsis; \">0</td><td style=\"white-space: nowrap; max-width: 500px; overflow: hidden; text-overflow: ellipsis; \">0</td></tr>\n",
       "<tr><td style=\"white-space: nowrap; max-width: 500px; overflow: hidden; text-overflow: ellipsis; \">1</td><td style=\"white-space: nowrap; max-width: 500px; overflow: hidden; text-overflow: ellipsis; \">2</td><td style=\"white-space: nowrap; max-width: 500px; overflow: hidden; text-overflow: ellipsis; \">3</td></tr>\n",
       "<tr><td style=\"white-space: nowrap; max-width: 500px; overflow: hidden; text-overflow: ellipsis; \">2</td><td style=\"white-space: nowrap; max-width: 500px; overflow: hidden; text-overflow: ellipsis; \">4</td><td style=\"white-space: nowrap; max-width: 500px; overflow: hidden; text-overflow: ellipsis; \">6</td></tr>\n",
       "<tr><td style=\"white-space: nowrap; max-width: 500px; overflow: hidden; text-overflow: ellipsis; \">3</td><td style=\"white-space: nowrap; max-width: 500px; overflow: hidden; text-overflow: ellipsis; \">6</td><td style=\"white-space: nowrap; max-width: 500px; overflow: hidden; text-overflow: ellipsis; \">9</td></tr>\n",
       "<tr><td style=\"white-space: nowrap; max-width: 500px; overflow: hidden; text-overflow: ellipsis; \">4</td><td style=\"white-space: nowrap; max-width: 500px; overflow: hidden; text-overflow: ellipsis; \">8</td><td style=\"white-space: nowrap; max-width: 500px; overflow: hidden; text-overflow: ellipsis; \">12</td></tr>\n",
       "<tr><td style=\"white-space: nowrap; max-width: 500px; overflow: hidden; text-overflow: ellipsis; \">5</td><td style=\"white-space: nowrap; max-width: 500px; overflow: hidden; text-overflow: ellipsis; \">10</td><td style=\"white-space: nowrap; max-width: 500px; overflow: hidden; text-overflow: ellipsis; \">15</td></tr>\n",
       "<tr><td style=\"white-space: nowrap; max-width: 500px; overflow: hidden; text-overflow: ellipsis; \">6</td><td style=\"white-space: nowrap; max-width: 500px; overflow: hidden; text-overflow: ellipsis; \">12</td><td style=\"white-space: nowrap; max-width: 500px; overflow: hidden; text-overflow: ellipsis; \">18</td></tr>\n",
       "<tr><td style=\"white-space: nowrap; max-width: 500px; overflow: hidden; text-overflow: ellipsis; \">7</td><td style=\"white-space: nowrap; max-width: 500px; overflow: hidden; text-overflow: ellipsis; \">14</td><td style=\"white-space: nowrap; max-width: 500px; overflow: hidden; text-overflow: ellipsis; \">21</td></tr>\n",
       "<tr><td style=\"white-space: nowrap; max-width: 500px; overflow: hidden; text-overflow: ellipsis; \">8</td><td style=\"white-space: nowrap; max-width: 500px; overflow: hidden; text-overflow: ellipsis; \">16</td><td style=\"white-space: nowrap; max-width: 500px; overflow: hidden; text-overflow: ellipsis; \">24</td></tr>\n",
       "<tr><td style=\"white-space: nowrap; max-width: 500px; overflow: hidden; text-overflow: ellipsis; \">9</td><td style=\"white-space: nowrap; max-width: 500px; overflow: hidden; text-overflow: ellipsis; \">18</td><td style=\"white-space: nowrap; max-width: 500px; overflow: hidden; text-overflow: ellipsis; \">27</td></tr>\n",
       "</tbody></table><p style=\"background: #fdd; padding: 0.4em;\">showing top 10 rows</p>\n"
      ],
      "text/plain": [
       "+-------+-------+-------+\n",
       "|   idx | idx_2 | idx_3 |\n",
       "+-------+-------+-------+\n",
       "| int32 | int32 | int32 |\n",
       "+-------+-------+-------+\n",
       "|     0 |     0 |     0 |\n",
       "|     1 |     2 |     3 |\n",
       "|     2 |     4 |     6 |\n",
       "|     3 |     6 |     9 |\n",
       "|     4 |     8 |    12 |\n",
       "|     5 |    10 |    15 |\n",
       "|     6 |    12 |    18 |\n",
       "|     7 |    14 |    21 |\n",
       "|     8 |    16 |    24 |\n",
       "|     9 |    18 |    27 |\n",
       "+-------+-------+-------+\n",
       "showing top 10 rows"
      ]
     },
     "metadata": {},
     "output_type": "display_data"
    }
   ],
   "source": [
    "import hail as hl\n",
    "\n",
    "data = hl.utils.range_table(100)\n",
    "data = data.annotate(idx_2=(data.idx * 2), idx_3=(data.idx * 3))\n",
    "data.show()"
   ]
  },
  {
   "cell_type": "markdown",
   "id": "860d0a3a",
   "metadata": {},
   "source": [
    "## Plot Objects\n",
    "\n",
    "When creating a plot, we start out with a basic **plot object**, which wraps our data. We can create such an object using the [`ggplot`](https://hail.is/docs/0.2/ggplot2/index.html#hail.ggplot2.ggplot) function, and take a closer look using the [`pprint`](https://hail.is/docs/0.2/ggplot2/index.html#hail.ggplot2.pprint) function:"
   ]
  },
  {
   "cell_type": "code",
   "execution_count": 2,
   "id": "45ac0248",
   "metadata": {},
   "outputs": [
    {
     "name": "stdout",
     "output_type": "stream",
     "text": [
      "Plot(\n",
      "    data = <hail.table.Table object at 0x165c8d5b0>,\n",
      "    mapping = Mapping(\n",
      "        x = None,\n",
      "        y = None,\n",
      "        rest = {}\n",
      "    ),\n",
      "    geoms = []\n",
      ")\n"
     ]
    }
   ],
   "source": [
    "from hail.ggplot2 import ggplot\n",
    "from hail.ggplot2.typecheck import pprint\n",
    "\n",
    "plot = ggplot(data)\n",
    "pprint(plot)"
   ]
  },
  {
   "cell_type": "markdown",
   "id": "b584643d",
   "metadata": {},
   "source": [
    "## Aesthetic Mappings\n",
    "\n",
    "Next, we'll need to specify which values to plot along our x- and y-axes.\n",
    "\n",
    "We'll use the [`aes`](https://hail.is/docs/0.2/ggplot2/index.html#hail.ggplot2.aes) function to create an **aesthetic mapping**, which links data to visual components of our plot. `aes` assumes its first two arguments are `x` and `y`, and can be passed any other arguments via keyword.\n",
    "\n",
    "Let's map the `idx` column of our data to the x-axis, and the `idx_2` column to the y-axis:"
   ]
  },
  {
   "cell_type": "code",
   "execution_count": 3,
   "id": "4bd3ce19",
   "metadata": {},
   "outputs": [
    {
     "name": "stdout",
     "output_type": "stream",
     "text": [
      "Plot(\n",
      "    data = <hail.table.Table object at 0x165c8d5b0>,\n",
      "    mapping = Mapping(\n",
      "        x = <Int32Expression of type int32>,\n",
      "        y = <Int32Expression of type int32>,\n",
      "        rest = {}\n",
      "    ),\n",
      "    geoms = []\n",
      ")\n"
     ]
    }
   ],
   "source": [
    "from hail.ggplot2 import aes\n",
    "\n",
    "plot += aes(data.idx, data.idx_2)\n",
    "pprint(plot)"
   ]
  },
  {
   "cell_type": "markdown",
   "id": "d3edd5a4",
   "metadata": {},
   "source": [
    "## Layers\n",
    "\n",
    "Like R's `ggplot2`, `hail.ggplot2` bases its approach to plotting on a [layered grammar of graphics](https://ggplot2-book.org/introduction.html#what-is-the-grammar-of-graphics).\n",
    "\n",
    "A **layer** is a self-contained collection of visual characteristics, data, and/or aggregations over that data. We'll build up our plot from the data by adding different layers to it.\n",
    "\n",
    "### Geoms\n",
    "\n",
    "A **geom** is a type of layer that specifies which kind of plot we're making. For example, `geom_point` indicates that we're making a scatterplot:"
   ]
  },
  {
   "cell_type": "code",
   "execution_count": 4,
   "id": "257821d6",
   "metadata": {},
   "outputs": [
    {
     "name": "stdout",
     "output_type": "stream",
     "text": [
      "Plot(\n",
      "    data = <hail.table.Table object at 0x165c8d5b0>,\n",
      "    mapping = Mapping(\n",
      "        x = <Int32Expression of type int32>,\n",
      "        y = <Int32Expression of type int32>,\n",
      "        rest = {}\n",
      "    ),\n",
      "    geoms = [\n",
      "        GeomPoint(\n",
      "            mapping = Mapping(\n",
      "                x = None,\n",
      "                y = None,\n",
      "                rest = {}\n",
      "            ),\n",
      "            data = None\n",
      "        )\n",
      "    ]\n",
      ")\n"
     ]
    }
   ],
   "source": [
    "from hail.ggplot2 import geom_point\n",
    "\n",
    "plot += geom_point()\n",
    "pprint(plot)"
   ]
  },
  {
   "cell_type": "markdown",
   "id": "6a6ac0ec",
   "metadata": {},
   "source": [
    "Since we've now added information about what the plot will look like, we can display it using the `show` function:"
   ]
  },
  {
   "cell_type": "code",
   "execution_count": 5,
   "id": "71d0e4a2",
   "metadata": {},
   "outputs": [
    {
     "name": "stdout",
     "output_type": "stream",
     "text": [
      "Plot(\n",
      "    data = <hail.table.Table object at 0x165c8d5b0>,\n",
      "    mapping = Mapping(\n",
      "        x = <Int32Expression of type int32>,\n",
      "        y = <Int32Expression of type int32>,\n",
      "        rest = {}\n",
      "    ),\n",
      "    geoms = [\n",
      "        GeomPoint(\n",
      "            mapping = Mapping(\n",
      "                x = None,\n",
      "                y = None,\n",
      "                rest = {}\n",
      "            ),\n",
      "            data = None\n",
      "        )\n",
      "    ]\n",
      ")\n"
     ]
    }
   ],
   "source": [
    "from hail.ggplot2 import show\n",
    "\n",
    "show(plot)"
   ]
  },
  {
   "cell_type": "markdown",
   "id": "4fa9d8b9",
   "metadata": {},
   "source": [
    "We can also add multiple geoms to a single plot.\n",
    "\n",
    "For example, we can plot a line on top of our scatterplot using `geom_line`. This line will still plot the values of the `idx` column along the x-axis, but use the `idx_3` column for the y-axis. We can override the `y` mapping for this geom by passing in its own `aes`:"
   ]
  },
  {
   "cell_type": "code",
   "execution_count": 6,
   "id": "0c266d8f",
   "metadata": {},
   "outputs": [
    {
     "name": "stdout",
     "output_type": "stream",
     "text": [
      "Plot(\n",
      "    data = <hail.table.Table object at 0x165c8d5b0>,\n",
      "    mapping = Mapping(\n",
      "        x = <Int32Expression of type int32>,\n",
      "        y = <Int32Expression of type int32>,\n",
      "        rest = {}\n",
      "    ),\n",
      "    geoms = [\n",
      "        GeomPoint(\n",
      "            mapping = Mapping(\n",
      "                x = None,\n",
      "                y = None,\n",
      "                rest = {}\n",
      "            ),\n",
      "            data = None\n",
      "        ),\n",
      "        GeomLine(\n",
      "            mapping = Mapping(\n",
      "                x = None,\n",
      "                y = <Int32Expression of type int32>,\n",
      "                rest = {}\n",
      "            ),\n",
      "            data = None\n",
      "        )\n",
      "    ]\n",
      ")\n"
     ]
    }
   ],
   "source": [
    "from hail.ggplot2 import geom_line\n",
    "\n",
    "plot += geom_line(aes(y=data.idx_3))\n",
    "show(plot)"
   ]
  },
  {
   "cell_type": "markdown",
   "id": "c3d781bb",
   "metadata": {},
   "source": [
    "### Stats\n",
    "\n",
    "TODO: you may have noticed that some geoms, like histogram, implicitly compute some statistics about the data before rendering it. but what if you need to transform your data independently of a geom?\n",
    "\n",
    "TODO: stats are cached, so when you recompute them, the plot object will attempt to reuse the cached values of previously applied aggregations"
   ]
  },
  {
   "cell_type": "markdown",
   "id": "d138d5c4",
   "metadata": {},
   "source": [
    "### Removing Layers\n",
    "\n",
    "With R's `ggplot2`, if you add a layer to a plot object, [it can be tough to remove it](https://stackoverflow.com/questions/50434608/remove-geoms-from-an-existing-ggplot-chart).\n",
    "\n",
    "However, `hail.ggplot2` plot objects keep track of each addition made to them, allowing us to use the `undo` method to roll back a single addition:"
   ]
  },
  {
   "cell_type": "code",
   "execution_count": 7,
   "id": "5ffeb79f",
   "metadata": {},
   "outputs": [
    {
     "name": "stdout",
     "output_type": "stream",
     "text": [
      "Plot(\n",
      "    data = <hail.table.Table object at 0x165c8d5b0>,\n",
      "    mapping = Mapping(\n",
      "        x = <Int32Expression of type int32>,\n",
      "        y = <Int32Expression of type int32>,\n",
      "        rest = {}\n",
      "    ),\n",
      "    geoms = [\n",
      "        GeomPoint(\n",
      "            mapping = Mapping(\n",
      "                x = None,\n",
      "                y = None,\n",
      "                rest = {}\n",
      "            ),\n",
      "            data = None\n",
      "        ),\n",
      "        GeomLine(\n",
      "            mapping = Mapping(\n",
      "                x = None,\n",
      "                y = <Int32Expression of type int32>,\n",
      "                rest = {}\n",
      "            ),\n",
      "            data = None\n",
      "        ),\n",
      "        GeomLine(\n",
      "            mapping = Mapping(\n",
      "                x = None,\n",
      "                y = None,\n",
      "                rest = {}\n",
      "            ),\n",
      "            data = None\n",
      "        )\n",
      "    ]\n",
      ")\n",
      "Plot(\n",
      "    data = <hail.table.Table object at 0x165c8d5b0>,\n",
      "    mapping = Mapping(\n",
      "        x = <Int32Expression of type int32>,\n",
      "        y = <Int32Expression of type int32>,\n",
      "        rest = {}\n",
      "    ),\n",
      "    geoms = [\n",
      "        GeomPoint(\n",
      "            mapping = Mapping(\n",
      "                x = None,\n",
      "                y = None,\n",
      "                rest = {}\n",
      "            ),\n",
      "            data = None\n",
      "        ),\n",
      "        GeomLine(\n",
      "            mapping = Mapping(\n",
      "                x = None,\n",
      "                y = <Int32Expression of type int32>,\n",
      "                rest = {}\n",
      "            ),\n",
      "            data = None\n",
      "        )\n",
      "    ]\n",
      ")\n"
     ]
    }
   ],
   "source": [
    "from hail.ggplot2 import undo\n",
    "\n",
    "plot += geom_line()\n",
    "show(plot)\n",
    "plot = undo(plot)\n",
    "show(plot)"
   ]
  },
  {
   "cell_type": "markdown",
   "id": "840dc206",
   "metadata": {},
   "source": [
    "We can also specify the number of additions to undo via the `depth` keyword argument:"
   ]
  },
  {
   "cell_type": "code",
   "execution_count": 8,
   "id": "a747c6d3",
   "metadata": {},
   "outputs": [
    {
     "name": "stdout",
     "output_type": "stream",
     "text": [
      "Plot(\n",
      "    data = <hail.table.Table object at 0x165c8d5b0>,\n",
      "    mapping = Mapping(\n",
      "        x = <Int32Expression of type int32>,\n",
      "        y = <Int32Expression of type int32>,\n",
      "        rest = {}\n",
      "    ),\n",
      "    geoms = [\n",
      "        GeomPoint(\n",
      "            mapping = Mapping(\n",
      "                x = None,\n",
      "                y = None,\n",
      "                rest = {}\n",
      "            ),\n",
      "            data = None\n",
      "        ),\n",
      "        GeomLine(\n",
      "            mapping = Mapping(\n",
      "                x = None,\n",
      "                y = <Int32Expression of type int32>,\n",
      "                rest = {}\n",
      "            ),\n",
      "            data = None\n",
      "        ),\n",
      "        GeomLine(\n",
      "            mapping = Mapping(\n",
      "                x = None,\n",
      "                y = None,\n",
      "                rest = {}\n",
      "            ),\n",
      "            data = None\n",
      "        ),\n",
      "        GeomPoint(\n",
      "            mapping = Mapping(\n",
      "                x = None,\n",
      "                y = None,\n",
      "                rest = {}\n",
      "            ),\n",
      "            data = None\n",
      "        )\n",
      "    ]\n",
      ")\n",
      "Plot(\n",
      "    data = <hail.table.Table object at 0x165c8d5b0>,\n",
      "    mapping = Mapping(\n",
      "        x = <Int32Expression of type int32>,\n",
      "        y = <Int32Expression of type int32>,\n",
      "        rest = {}\n",
      "    ),\n",
      "    geoms = [\n",
      "        GeomPoint(\n",
      "            mapping = Mapping(\n",
      "                x = None,\n",
      "                y = None,\n",
      "                rest = {}\n",
      "            ),\n",
      "            data = None\n",
      "        ),\n",
      "        GeomLine(\n",
      "            mapping = Mapping(\n",
      "                x = None,\n",
      "                y = <Int32Expression of type int32>,\n",
      "                rest = {}\n",
      "            ),\n",
      "            data = None\n",
      "        )\n",
      "    ]\n",
      ")\n"
     ]
    }
   ],
   "source": [
    "plot = plot + geom_line() + geom_point()\n",
    "show(plot)\n",
    "plot = undo(plot, depth=2)\n",
    "show(plot)"
   ]
  },
  {
   "cell_type": "markdown",
   "id": "825baee3",
   "metadata": {},
   "source": [
    "## Titles\n",
    "\n",
    "TODO"
   ]
  },
  {
   "cell_type": "markdown",
   "id": "8fdbe273",
   "metadata": {},
   "source": [
    "## Axis Labels\n",
    "\n",
    "TODO"
   ]
  },
  {
   "cell_type": "markdown",
   "id": "9f3b6784",
   "metadata": {},
   "source": [
    "## Scales\n",
    "\n",
    "TODO: what are scales"
   ]
  },
  {
   "cell_type": "markdown",
   "id": "74613547",
   "metadata": {},
   "source": [
    "## Facets\n",
    "\n",
    "TODO"
   ]
  },
  {
   "cell_type": "markdown",
   "id": "4c37a13e",
   "metadata": {},
   "source": [
    "## Examples\n",
    "\n",
    "### Histogram\n",
    "\n",
    "TODO: explain a bit about histograms\n",
    "\n",
    "We've already created a histogram [above](#Displaying-Plots). Let's take another look at it:"
   ]
  },
  {
   "cell_type": "code",
   "execution_count": 9,
   "id": "c721e8ee",
   "metadata": {},
   "outputs": [
    {
     "ename": "NameError",
     "evalue": "name 'plot3' is not defined",
     "output_type": "error",
     "traceback": [
      "\u001b[0;31m---------------------------------------------------------------------------\u001b[0m",
      "\u001b[0;31mNameError\u001b[0m                                 Traceback (most recent call last)",
      "Cell \u001b[0;32mIn[9], line 1\u001b[0m\n\u001b[0;32m----> 1\u001b[0m show(\u001b[43mplot3\u001b[49m)\n",
      "\u001b[0;31mNameError\u001b[0m: name 'plot3' is not defined"
     ]
    }
   ],
   "source": [
    "show(plot3)"
   ]
  },
  {
   "cell_type": "markdown",
   "id": "d61e6bcc",
   "metadata": {},
   "source": [
    "TODO: talk about default settings\n",
    "\n",
    "We can specify the number of `bins` as an argument to `geom_histogram`:"
   ]
  },
  {
   "cell_type": "code",
   "execution_count": null,
   "id": "e3ee42ae",
   "metadata": {},
   "outputs": [],
   "source": [
    "plot4 = plot2 + geom_histogram(bins=50)\n",
    "show(plot4)"
   ]
  },
  {
   "cell_type": "markdown",
   "id": "bc860479",
   "metadata": {},
   "source": [
    "### Cumulative Histogram\n",
    "\n",
    "TODO"
   ]
  },
  {
   "cell_type": "markdown",
   "id": "ac2baeee",
   "metadata": {},
   "source": [
    "### 2D Histogram\n",
    "\n",
    "TODO"
   ]
  },
  {
   "cell_type": "markdown",
   "id": "b60781bf",
   "metadata": {},
   "source": [
    "### Scatter Plot\n",
    "\n",
    "TODO"
   ]
  },
  {
   "cell_type": "markdown",
   "id": "5b802442",
   "metadata": {},
   "source": [
    "### QQ Plot\n",
    "\n",
    "TODO: To create a quantile-quantile (QQ) plot, ..."
   ]
  },
  {
   "cell_type": "markdown",
   "id": "633d723b",
   "metadata": {},
   "source": [
    "### Manhattan Plot\n",
    "\n",
    "TODO (use actual genetics data)"
   ]
  },
  {
   "cell_type": "markdown",
   "id": "73fdbf30",
   "metadata": {},
   "source": [
    "## Common Mistakes\n",
    "\n",
    "TODO: don't use the class constructors, call the special functions"
   ]
  },
  {
   "cell_type": "markdown",
   "id": "c08df783",
   "metadata": {},
   "source": [
    "TODO: example specifically demonstrating downsampling"
   ]
  }
 ],
 "metadata": {
  "kernelspec": {
   "display_name": "Python 3 (ipykernel)",
   "language": "python",
   "name": "python3"
  },
  "language_info": {
   "codemirror_mode": {
    "name": "ipython",
    "version": 3
   },
   "file_extension": ".py",
   "mimetype": "text/x-python",
   "name": "python",
   "nbconvert_exporter": "python",
   "pygments_lexer": "ipython3",
   "version": "3.9.17"
  }
 },
 "nbformat": 4,
 "nbformat_minor": 5
}
