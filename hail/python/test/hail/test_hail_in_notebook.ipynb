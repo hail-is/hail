{
 "cells": [
  {
   "cell_type": "code",
   "execution_count": null,
   "id": "45c29ec3-dd8f-4805-a24f-462818628992",
   "metadata": {},
   "outputs": [],
   "source": [
    "import hail as hl\n",
    "import os\n",
    "from hailtop.utils import secret_alnum_string\n",
    "hl.utils.range_table(1).write(f'{os.environ[\"HAIL_TEST_STORAGE_URI\"]}/test_hail_in_notebook_{secret_alnum_string(10)}.ht')\n",
    "from helpers import resource\n",
    "hl.read_table(resource('backward_compatability/1.7.0/table/9.ht')).count()"
   ]
  }
 ],
 "metadata": {
  "kernelspec": {
   "display_name": "Python 3 (ipykernel)",
   "language": "python",
   "name": "python3"
  },
  "language_info": {
   "codemirror_mode": {
    "name": "ipython",
    "version": 3
   },
   "file_extension": ".py",
   "mimetype": "text/x-python",
   "name": "python",
   "nbconvert_exporter": "python",
   "pygments_lexer": "ipython3",
   "version": "3.10.9"
  }
 },
 "nbformat": 4,
 "nbformat_minor": 5
}
